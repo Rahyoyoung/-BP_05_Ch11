{
  "nbformat": 4,
  "nbformat_minor": 0,
  "metadata": {
    "colab": {
      "provenance": [],
      "authorship_tag": "ABX9TyNDEGNIEjMi60eG4Htk4COi",
      "include_colab_link": true
    },
    "kernelspec": {
      "name": "python3",
      "display_name": "Python 3"
    },
    "language_info": {
      "name": "python"
    }
  },
  "cells": [
    {
      "cell_type": "markdown",
      "metadata": {
        "id": "view-in-github",
        "colab_type": "text"
      },
      "source": [
        "<a href=\"https://colab.research.google.com/github/Rahyoyoung/-BP_05_Ch11/blob/main/BP_05_EX_Ch11.ipynb\" target=\"_parent\"><img src=\"https://colab.research.google.com/assets/colab-badge.svg\" alt=\"Open In Colab\"/></a>"
      ]
    },
    {
      "cell_type": "code",
      "source": [
        "filename = input(\"파일 이름을 입력하세요: \").strip()      #사용자 입력\n",
        "infile = open(filename, \"r\")         #입력한 이름(문자열)로 파일 읽기 또는 쓰기\n",
        "count = 0\n",
        "for line in infile:    #파일 안 글 만큼 반복\n",
        "    for ch in line:       #길이계산\n",
        "         count += 1\n",
        "print(\"파일 안에는 총 \", count , \"개의 글자가 있습니다.\")   #출력\n",
        "infile.close() # 파일을 닫는다."
      ],
      "metadata": {
        "colab": {
          "base_uri": "https://localhost:8080/",
          "height": 137
        },
        "id": "13tcHXwMl1on",
        "outputId": "17c1193c-2af6-4355-a7fb-4f6d506bf14b"
      },
      "execution_count": 6,
      "outputs": [
        {
          "output_type": "error",
          "ename": "IndentationError",
          "evalue": "ignored",
          "traceback": [
            "\u001b[0;36m  File \u001b[0;32m\"<ipython-input-6-ff96e29bd4be>\"\u001b[0;36m, line \u001b[0;32m6\u001b[0m\n\u001b[0;31m    count += 1\u001b[0m\n\u001b[0m        ^\u001b[0m\n\u001b[0;31mIndentationError\u001b[0m\u001b[0;31m:\u001b[0m expected an indented block\n"
          ]
        }
      ]
    },
    {
      "cell_type": "code",
      "source": [
        "filename = input(\"파일 이름을 입력하세요: \").strip() #공백 없이 입력 받아서 저장\n",
        "file = open(filename, \"r\")                           #읽기 모드로 파일 열기\n",
        "file_s = file.read() #읽기\n",
        "remove = input(\"삭제할 문자열을 입력하세요: \").strip() #공백 없이 삭제할 문자열 입력 받아서 저장\n",
        "modified_s = file_s.replace(remove, \"\")# 삭제할 문자열을 \"\"로 대체\n",
        "\n",
        "file.close()#열었던 파일 닫음(필수)\n",
        "\n",
        "outfile = open(filename, \"w\")# 쓰기 형식으로 파일열기\n",
        "print(modified_s, file = outfile, end = \"\") #쓰기 파일 // 공백 없음\n",
        "print(\"변경된 파일이 저장되었습니다.\")\n",
        "\n",
        "outfile.close()#파일 닫음"
      ],
      "metadata": {
        "colab": {
          "base_uri": "https://localhost:8080/",
          "height": 266
        },
        "id": "Ru4MG0HCowIn",
        "outputId": "bb1ef495-e5b0-4308-a031-d07a7d65f2d6"
      },
      "execution_count": 14,
      "outputs": [
        {
          "name": "stdout",
          "output_type": "stream",
          "text": [
            "파일 이름을 입력하세요: fkgydud.txt\n"
          ]
        },
        {
          "output_type": "error",
          "ename": "FileNotFoundError",
          "evalue": "ignored",
          "traceback": [
            "\u001b[0;31m---------------------------------------------------------------------------\u001b[0m",
            "\u001b[0;31mFileNotFoundError\u001b[0m                         Traceback (most recent call last)",
            "\u001b[0;32m<ipython-input-14-86ed931b1948>\u001b[0m in \u001b[0;36m<module>\u001b[0;34m\u001b[0m\n\u001b[1;32m      1\u001b[0m \u001b[0mfilename\u001b[0m \u001b[0;34m=\u001b[0m \u001b[0minput\u001b[0m\u001b[0;34m(\u001b[0m\u001b[0;34m\"파일 이름을 입력하세요: \"\u001b[0m\u001b[0;34m)\u001b[0m\u001b[0;34m.\u001b[0m\u001b[0mstrip\u001b[0m\u001b[0;34m(\u001b[0m\u001b[0;34m)\u001b[0m \u001b[0;31m#공백 없이 입력 받아서 저장\u001b[0m\u001b[0;34m\u001b[0m\u001b[0;34m\u001b[0m\u001b[0m\n\u001b[0;32m----> 2\u001b[0;31m \u001b[0mfile\u001b[0m \u001b[0;34m=\u001b[0m \u001b[0mopen\u001b[0m\u001b[0;34m(\u001b[0m\u001b[0mfilename\u001b[0m\u001b[0;34m,\u001b[0m \u001b[0;34m\"r\"\u001b[0m\u001b[0;34m)\u001b[0m                           \u001b[0;31m#읽기 모드로 파일 열기\u001b[0m\u001b[0;34m\u001b[0m\u001b[0;34m\u001b[0m\u001b[0m\n\u001b[0m\u001b[1;32m      3\u001b[0m \u001b[0mfile_s\u001b[0m \u001b[0;34m=\u001b[0m \u001b[0mfile\u001b[0m\u001b[0;34m.\u001b[0m\u001b[0mread\u001b[0m\u001b[0;34m(\u001b[0m\u001b[0;34m)\u001b[0m \u001b[0;31m#읽기\u001b[0m\u001b[0;34m\u001b[0m\u001b[0;34m\u001b[0m\u001b[0m\n\u001b[1;32m      4\u001b[0m \u001b[0mremove\u001b[0m \u001b[0;34m=\u001b[0m \u001b[0minput\u001b[0m\u001b[0;34m(\u001b[0m\u001b[0;34m\"삭제할 문자열을 입력하세요: \"\u001b[0m\u001b[0;34m)\u001b[0m\u001b[0;34m.\u001b[0m\u001b[0mstrip\u001b[0m\u001b[0;34m(\u001b[0m\u001b[0;34m)\u001b[0m \u001b[0;31m#공백 없이 삭제할 문자열 입력 받아서 저장\u001b[0m\u001b[0;34m\u001b[0m\u001b[0;34m\u001b[0m\u001b[0m\n\u001b[1;32m      5\u001b[0m \u001b[0mmodified_s\u001b[0m \u001b[0;34m=\u001b[0m \u001b[0mfile_s\u001b[0m\u001b[0;34m.\u001b[0m\u001b[0mreplace\u001b[0m\u001b[0;34m(\u001b[0m\u001b[0mremove\u001b[0m\u001b[0;34m,\u001b[0m \u001b[0;34m\"\"\u001b[0m\u001b[0;34m)\u001b[0m\u001b[0;31m# 삭제할 문자열을 \"\"로 대체\u001b[0m\u001b[0;34m\u001b[0m\u001b[0;34m\u001b[0m\u001b[0m\n",
            "\u001b[0;31mFileNotFoundError\u001b[0m: [Errno 2] No such file or directory: 'fkgydud.txt'"
          ]
        }
      ]
    },
    {
      "cell_type": "code",
      "source": [
        "filename = input(\"입력 파일 이름: \").strip()       \n",
        "infile = open(filename, \"r\")\n",
        "\n",
        "def func(line, counter):            #펑션 함수 생성\n",
        "    for c in line:                #문장 수 만큼 반복\n",
        "        if c.isalpha():            #영문자인지를 판단\n",
        "            if c in counter:\n",
        "                counter[c] = counter[c] + 1       # 같은 문자 수를 카운트\n",
        "            else:                       #아니면\n",
        "                counter[c] = 1            #1로 초기화\n",
        "\n",
        "dic = {}                  #딕셔너리 생성\n",
        "for line in infile:\n",
        "    func(line, dic)          #펑션 함수 실행\n",
        "    print(dic)              #딕셔너리 출력\n",
        "infile.close()              #파일 닫기"
      ],
      "metadata": {
        "id": "KIeibO-Y3bRV"
      },
      "execution_count": null,
      "outputs": []
    },
    {
      "cell_type": "code",
      "source": [
        "import pickle #피클 라이브러리 불러옴\n",
        "\n",
        "#pickle모듈을 사용해 저장\n",
        "outfile = open(\"test.dat\", \"wb\")#저장장소 설정 dump로 저장하기 때문에 wb모드\n",
        "pickle.dump(12, outfile) # 출력 파일에 12 정수형 객체값 저장\n",
        "pickle.dump(3.14, outfile) # 출력 파일에 3.14 실수형 객체값 저장\n",
        "pickle.dump([1, 2, 3, 4, 5], outfile) # 출력 파일에 1~5 배열 객체값 저장\n",
        "outfile.close() #파일 닫기\n",
        "\n",
        "#pickle모듈을 사용해 읽기\n",
        "infile = open(\"test.dat\", \"rb\")#읽을파일 지정 읽어올 경우이므로 바이너리 읽기 모드로\n",
        "print(pickle.load(infile))\n",
        "print(pickle.load(infile))\n",
        "print(pickle.load(infile))\n",
        "#파일 읽기하여 출력\n",
        "infile.close() #파일 닫기"
      ],
      "metadata": {
        "colab": {
          "base_uri": "https://localhost:8080/"
        },
        "id": "xn8635CxtRzq",
        "outputId": "61ed9197-875d-4349-abce-7fd6c035f3d6"
      },
      "execution_count": 22,
      "outputs": [
        {
          "output_type": "stream",
          "name": "stdout",
          "text": [
            "12\n",
            "3.14\n",
            "[1, 2, 3, 4, 5]\n"
          ]
        }
      ]
    },
    {
      "cell_type": "code",
      "source": [
        "a = input(\"입력 파일 이름: \")\n",
        "b = input(\"출력 파일 이름: \")\n",
        "#사용자로 부터 입력 파일과 출력 파일 입력 받음\n",
        "infile = open(a, \"r\")   #읽기 모드로 파일 열기\n",
        "outfile = open(b, \"w\")  #쓰기 모드로 파일 열기\n",
        "\n",
        "t = 0.0             #변수 생성 및 실수형으로 초기화\n",
        "c = 0                #변수 생성 및 정수형으로 초기화\n",
        "\n",
        "line = infile.readline()        #파일 열어서 한줄 씩 읽기\n",
        "while line != \"\" :             #공백 제외하고 루프\n",
        "    k = float(line)           #실수형으로 문장 받기\n",
        "    t = t + k                #0.0+받은문장\n",
        "    c += 1                   #평균 계산 시 사용\n",
        "    line = infile.readline()       #한줄 씩 읽기\n",
        "\n",
        "    outfile.write(\"합계=\"+ str(t)+\"\\n\")         #출력파일에 함께 쓰고 줄바꿈\n",
        "    avg = t / c                                #평균계산\n",
        "    outfile.write(\"평균=\"+ str(avg)+\"\\n\")         #출력 파일에 평균 쓰고 줄바꿈\n",
        "\n",
        "infile.close()\n",
        "outfile.close()      #파일 닫기"
      ],
      "metadata": {
        "id": "FfGYPqnx2_DF"
      },
      "execution_count": null,
      "outputs": []
    },
    {
      "cell_type": "code",
      "source": [
        "import pickle #피클 라이브러리 불러옴\n",
        "from tkinter import * # tkinter 라이브러리 모든 기능 불러옴\n",
        "\n",
        "tk = Tk() #메인 Ui 생성\n",
        "\n",
        "phonebook = { } # 딕셔너리 생성\n",
        "current = 0 # 변수 0으로 초기화 및 생성\n",
        "name = \"\" # 공백 으로 초기화\n",
        "phone = \"\" # 공백 으로 초기화\n",
        "\n",
        "def save(): #저장 함수 생성\n",
        "    outfile = open(\"phonebook.dat\", \"wb\") # 바이너리 쓰기 모드로 파일 읽기\n",
        "    pickle.dump(phonebook, outfile) # 출력 파일에 전화번호 객체값 저장\n",
        "    print(\"주소들이 파일에 저장되었습니다\") #저장 문구 출력\n",
        "    outfile.close()# 파일 닫기\n",
        "\n",
        "def load(): #읽기 함수 생성\n",
        "    infile = open(\"phonebook.dat\", \"rb\") # 바이너리 읽기 모드로 파일 읽기\n",
        "    phonebook = pickle.load(infile) # 연락처에 파일 읽어서 저장\n",
        "    infile.close() #파일 닫기\n",
        "    print(\"파일에서 주소를 읽었습니다.\") #문구 출력\n",
        "    go_first() # go_first() 함수 실행\n",
        "\n",
        "def add(): #추가 함수 생성\n",
        "    phonebook[nameEntry.get()] = phoneEntry.get() # 연락처에서 파일 가져와서 저장\n",
        "    print(phonebook) #연락처 출력\n",
        "    save() #저장 함수 실행\n",
        "\n",
        "def go_first(): #  go_first 함수 생성\n",
        "    global current #전역 변수\n",
        "    current = 0 # 0으로 초기화 및 변수 생성\n",
        "    ks = list(phonebook) # 리스트 형식으로 주소록 저장\n",
        "    print(phonebook) #연락처 출력\n",
        "    nameEntry.delete(0, END)\n",
        "    nameEntry.insert(0, ks[current])\n",
        "    phoneEntry.delete(0, END)\n",
        "    phoneEntry.insert(0, phonebook[ks[current]])\n",
        "    # 기입창 0으로 초기화 및 삭제\n",
        "\n",
        "def go_next(): # go_next 함수 생성\n",
        "    global current #전역 변수\n",
        "    current += 1 # 함수 실행 시 +1\n",
        "    ks = list(phonebook) #리스트 형식으로 주소록 저장\n",
        "    nameEntry.delete(0, END)\n",
        "    nameEntry.insert(0, ks[current])\n",
        "    phoneEntry.delete(0, END)\n",
        "    phoneEntry.insert(0, phonebook[ks[current]])\n",
        "    # 기입창 0으로 초기화 및 삭제\n",
        "\n",
        "def go_previous(): # 이전 함수 생성\n",
        "    global current # 전역 변수\n",
        "    current -= 1 # 함수 실행 시 -1\n",
        "    ks = list(phonebook) #리스트 형식으로 주소록 저장\n",
        "    nameEntry.delete(0, END)\n",
        "    nameEntry.insert(0, ks[current])\n",
        "    phoneEntry.delete(0, END)\n",
        "    phoneEntry.insert(0, phonebook[ks[current]])\n",
        "    # 기입창 0으로 초기화 및 삭제\n",
        "\n",
        "def go_last(): # go_last 함수 생성\n",
        "    global current #전역 변수\n",
        "    current = 5 # 함수 실행 시 5로 초기화\n",
        "    ks = list(phonebook) #리스트 형식으로 주소록 저장\n",
        "    print(phonebook) #연락처 출력\n",
        "    nameEntry.delete(0, END)\n",
        "    nameEntry.insert(0, ks[current])\n",
        "    phoneEntry.delete(0, END)\n",
        "    phoneEntry.insert(0, phonebook[ks[current]])\n",
        "    # 기입창 0으로 초기화 및 삭제\n",
        "\n",
        "frame1 = Frame(tk) # 빈 프레임1 생성\n",
        "frame1.pack() #프레임 보이기\n",
        "Label(frame1, text = \"이름 \").grid(row = 1, column = 1, sticky = W) #프레임1에 라벨 생성 후 그리드\n",
        "nameEntry = Entry(frame1,  width = 30, textvariable = name) # 프레임1에 기입창 생성 및 라벨에 문자열 변수 name 설정\n",
        "nameEntry.grid(row = 1, column = 2)#그리드 위치 조정\n",
        "\n",
        "frame2 = Frame(tk) # 빈 프레임2 생성\n",
        "frame2.pack() #보이기\n",
        "Label(frame2, text = \"전화번호\").grid(row = 1, column = 1, sticky = W) #프레임2에 라벨 생성 후 그리드\n",
        "phoneEntry = Entry(frame2,  width = 30, textvariable = phone) # 프레임2에 기입창 생성 및 라벨에 문자열 변수 phone 설정\n",
        "phoneEntry.grid(row = 1, column = 2) #그리드\n",
        "\n",
        "frame3 = Frame(tk) #빈 프레임3 생성\n",
        "frame3.pack() #보이기\n",
        "\n",
        "b1 = Button(frame3, text = \"추가\", command = add).grid(row = 1, column = 1) # 프레임3에 버튼 생성 및 클릭 시 추가 함수 실행 1행에 첫번째로 격자배치\n",
        "b2 = Button(frame3, text = \"처음\", command = go_first).grid(row = 1, column = 2) #프레임3에 버튼 생성 및 클릭 시 go_first 함수 실행 1행에 두번째로 격자배치\n",
        "b3 = Button(frame3, text = \"다음\", command = go_next).grid(row = 1, column = 3) #프레임3에 버튼 생성 및 클릭 시 go_next 함수 실행 1행에 세번째로 격자배치\n",
        "b4 = Button(frame3, text = \"이전\", command =go_previous).grid(row = 1, column = 4) #프레임3에 버튼 생성 및 클릭 시 이전 함수 실행 1행에 네번째로 격자배치\n",
        "b5 = Button(frame3, text = \"마지막\", command = go_last).grid(row = 1, column = 5) #프레임3에 버튼 생성 및 클릭 시 go_last 함수 실행 1행에 다섯번째로 격자배치\n",
        "b6 = Button(frame3, text = \"파일 읽기\", command = load).grid(row = 1, column = 6) #프레임3에 버튼 생성 및 클릭 시 읽기 함수 실행 1행에 여섯번째로 격자배치\n",
        "\n",
        "tk.mainloop()"
      ],
      "metadata": {
        "id": "QiihLrXY4ubm"
      },
      "execution_count": null,
      "outputs": []
    }
  ]
}